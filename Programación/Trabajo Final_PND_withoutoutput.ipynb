{
 "cells": [
  {
   "cell_type": "code",
   "execution_count": null,
   "metadata": {},
   "outputs": [],
   "source": [
    "import nltk"
   ]
  },
  {
   "cell_type": "code",
   "execution_count": null,
   "metadata": {},
   "outputs": [],
   "source": [
    "import PyPDF2"
   ]
  },
  {
   "cell_type": "markdown",
   "metadata": {},
   "source": [
    "## Plan Nacional de Desarrollo 2018-2022"
   ]
  },
  {
   "cell_type": "code",
   "execution_count": null,
   "metadata": {},
   "outputs": [],
   "source": [
    "#Abrir el pdf \n",
    "object=open('Bases Plan Nacional de Desarrollo (completo) 2018-2022.pdf', 'rb')"
   ]
  },
  {
   "cell_type": "code",
   "execution_count": null,
   "metadata": {},
   "outputs": [],
   "source": [
    "#Leer el pdf \n",
    "reader = PyPDF2.PdfFileReader(object)"
   ]
  },
  {
   "cell_type": "code",
   "execution_count": null,
   "metadata": {},
   "outputs": [],
   "source": [
    "# Número de páginas que tiene el pdf (sirve para corroborar que el archivo esté completo)\n",
    "reader.numPages"
   ]
  },
  {
   "cell_type": "code",
   "execution_count": null,
   "metadata": {},
   "outputs": [],
   "source": [
    "# Contenido en la página 1 (indexado en base cero) --> Se extrae el texto que haya en la primera página del PND 2018\n",
    "page=reader.getPage(0)\n",
    "page.extractText()"
   ]
  },
  {
   "cell_type": "code",
   "execution_count": null,
   "metadata": {
    "scrolled": false
   },
   "outputs": [],
   "source": [
    "# Para probar verifico el texto en la página 9\n",
    "page=reader.getPage(8)\n",
    "page.extractText()"
   ]
  },
  {
   "cell_type": "code",
   "execution_count": null,
   "metadata": {},
   "outputs": [],
   "source": [
    "# Otra forma de abrir el pdf es la siguiente y puedo contar el número de páginas\n",
    "file = open('Bases Plan Nacional de Desarrollo (completo) 2018-2022.pdf', 'rb')\n",
    "fileReader = PyPDF2.PdfFileReader(file)\n",
    "print(fileReader.numPages)"
   ]
  },
  {
   "cell_type": "code",
   "execution_count": null,
   "metadata": {},
   "outputs": [],
   "source": [
    "# Rango de las páginas\n",
    "pags=range(reader.numPages)\n",
    "pags"
   ]
  },
  {
   "cell_type": "code",
   "execution_count": null,
   "metadata": {
    "scrolled": true
   },
   "outputs": [],
   "source": [
    "# Ahora hago un loop para que pueda extraer todo el texto del pdf a una lista, ya que solo puedo extraer una página a la vez\n",
    "i=0\n",
    "pnd2018=[]\n",
    "while i<reader.getNumPages():\n",
    "    pageinfo=reader.getPage(i)\n",
    "    pnd2018.append(pageinfo.extractText())\n",
    "    i=i+1\n"
   ]
  },
  {
   "cell_type": "code",
   "execution_count": null,
   "metadata": {},
   "outputs": [],
   "source": [
    "# Este es el PND 2018 completo en la lista que creé arriba\n",
    "pnd2018"
   ]
  },
  {
   "cell_type": "code",
   "execution_count": null,
   "metadata": {},
   "outputs": [],
   "source": [
    "# Sólo para corroborar el tipo del elemento\n",
    "type(pnd2018)\n"
   ]
  },
  {
   "cell_type": "code",
   "execution_count": null,
   "metadata": {},
   "outputs": [],
   "source": [
    "# Ahora necesito que el texto esté en formato string\n",
    "pnd_2018=str(pnd2018)"
   ]
  },
  {
   "cell_type": "code",
   "execution_count": null,
   "metadata": {
    "scrolled": true
   },
   "outputs": [],
   "source": [
    "# Texto en string asignado a pnd_2018\n",
    "pnd_2018"
   ]
  },
  {
   "cell_type": "code",
   "execution_count": null,
   "metadata": {},
   "outputs": [],
   "source": [
    "# Texto en string que me servirá para pasarlo a nlkt más adelante\n",
    "str1 = ''.join(pnd2018)"
   ]
  },
  {
   "cell_type": "code",
   "execution_count": null,
   "metadata": {
    "scrolled": true
   },
   "outputs": [],
   "source": [
    "# PND en formato string \n",
    "str1"
   ]
  },
  {
   "cell_type": "code",
   "execution_count": null,
   "metadata": {
    "scrolled": true
   },
   "outputs": [],
   "source": [
    "# Creo tokens para cada palabra que tiene el string \n",
    "all_tokens = str1.split()\n",
    "all_tokens"
   ]
  },
  {
   "cell_type": "code",
   "execution_count": null,
   "metadata": {},
   "outputs": [],
   "source": [
    "# Número de tokens\n",
    "len(all_tokens)"
   ]
  },
  {
   "cell_type": "code",
   "execution_count": null,
   "metadata": {},
   "outputs": [],
   "source": [
    "# Limpieza del texto\n",
    "# Dejo únicamente los tokens que son alfanuméricos\n",
    "alpha = [w for w in all_tokens if w.isalpha()]\n",
    "alpha"
   ]
  },
  {
   "cell_type": "code",
   "execution_count": null,
   "metadata": {},
   "outputs": [],
   "source": [
    "import string\n",
    "# Caracteres de puntuación\n",
    "string.punctuation"
   ]
  },
  {
   "cell_type": "code",
   "execution_count": null,
   "metadata": {},
   "outputs": [],
   "source": [
    "# A los caracteres de puntuación se le adicionan otros especiales que pueden aparecer en el texto\n",
    "punctuation = string.punctuation + '–¡¿”“•\\r´'\n",
    "punctuation"
   ]
  },
  {
   "cell_type": "code",
   "execution_count": null,
   "metadata": {},
   "outputs": [],
   "source": [
    "# Con esta función puedo definir los strings teniendo en cuenta la puntuación\n",
    "def no_punct(string):\n",
    "    transtable = string.maketrans('', '', punctuation)\n",
    "    return string.translate(transtable)"
   ]
  },
  {
   "cell_type": "code",
   "execution_count": null,
   "metadata": {
    "scrolled": true
   },
   "outputs": [],
   "source": [
    "# Definición de los tokens que no son de puntuación\n",
    "tokens_no_punc = list(map(no_punct, all_tokens))\n",
    "tokens_no_punc"
   ]
  },
  {
   "cell_type": "code",
   "execution_count": null,
   "metadata": {},
   "outputs": [],
   "source": [
    "# Para poder hacer el análisis de texto es útil que todas las palabras estén en minúscula así no hay diferencias entre máy y min \n",
    "lower = [w.lower() for w in tokens_no_punc]\n",
    "lower"
   ]
  },
  {
   "cell_type": "code",
   "execution_count": null,
   "metadata": {},
   "outputs": [],
   "source": [
    "# No necesito los números por lo que los puedo eliminar\n",
    "alpha = [w for w in lower if not w.isdigit()]\n",
    "alpha"
   ]
  },
  {
   "cell_type": "code",
   "execution_count": null,
   "metadata": {},
   "outputs": [],
   "source": [
    "len(set(alpha))"
   ]
  },
  {
   "cell_type": "code",
   "execution_count": null,
   "metadata": {},
   "outputs": [],
   "source": [
    "# Qué palabras tienen mayor frecuencia en mi texto, con esto puedo ver que aún me falta quitar las stopwords\n",
    "freqdist = nltk.FreqDist(alpha)\n",
    "freqdist"
   ]
  },
  {
   "cell_type": "code",
   "execution_count": null,
   "metadata": {},
   "outputs": [],
   "source": [
    "from nltk.corpus import stopwords\n",
    "# Stopwords en español listado\n",
    "stopwords_esp = stopwords.words('spanish')\n",
    "stopwords_esp"
   ]
  },
  {
   "cell_type": "code",
   "execution_count": null,
   "metadata": {
    "scrolled": true
   },
   "outputs": [],
   "source": [
    "# Ahora puedo sacar las palabras que no son stopwords de mi texto\n",
    "tokens_no_stop = [w for w in alpha if w not in stopwords_esp]\n",
    "tokens_no_stop"
   ]
  },
  {
   "cell_type": "code",
   "execution_count": null,
   "metadata": {
    "scrolled": true
   },
   "outputs": [],
   "source": [
    "# Nuevamente reviso el conteo de palabras en mi lista de las non-stopwords, para poder seguir limpiando el texto\n",
    "freqdist = nltk.FreqDist(tokens_no_stop)\n",
    "freqdist.most_common()"
   ]
  },
  {
   "cell_type": "code",
   "execution_count": null,
   "metadata": {},
   "outputs": [],
   "source": [
    "# Lista de palabras de interés \n",
    "not_of_interest = ['','página','así','da', 'pág']"
   ]
  },
  {
   "cell_type": "code",
   "execution_count": null,
   "metadata": {
    "scrolled": true
   },
   "outputs": [],
   "source": [
    "# FInalmente mis tokens de interés para mi análisis de lenguaje serán aquellos que no son símbolos, números, stopwords ni palabras sin utilidad (por ejemplo página)\n",
    "tokens_of_interest = [w for w in tokens_no_stop if w not in not_of_interest]\n",
    "tokens_of_interest"
   ]
  },
  {
   "cell_type": "code",
   "execution_count": null,
   "metadata": {
    "scrolled": true
   },
   "outputs": [],
   "source": [
    "# Reviso nuevamente la frecuencia de las palabras pero aún quedan tokens por eliminar\n",
    "freqdist = nltk.FreqDist(tokens_of_interest)\n",
    "freqdist"
   ]
  },
  {
   "cell_type": "code",
   "execution_count": null,
   "metadata": {},
   "outputs": [],
   "source": [
    "# Elimino tokens que no son de mi interés \n",
    "not_of_interest = ['','página','así', 'da', 'l', 'd', 'n', 's', 'c']"
   ]
  },
  {
   "cell_type": "code",
   "execution_count": null,
   "metadata": {
    "scrolled": true
   },
   "outputs": [],
   "source": [
    "# Nuevamente traigo la lista de tokens de interés para nueva revisión\n",
    "tokens_of_interest = [w for w in tokens_no_stop if w not in not_of_interest]\n",
    "tokens_of_interest"
   ]
  },
  {
   "cell_type": "code",
   "execution_count": null,
   "metadata": {},
   "outputs": [],
   "source": [
    "# Al revisar nuevamente la frecuencia de los tokens de interés ya no quedan palabras sin utilidad o caracteres extraños\n",
    "freqdist = nltk.FreqDist(tokens_of_interest)\n",
    "freqdist"
   ]
  },
  {
   "cell_type": "code",
   "execution_count": null,
   "metadata": {},
   "outputs": [],
   "source": [
    "# Ahora la lista de tokens la convierto a un string para poder hacer el análisis del texto \n",
    "tokens_of_interest_str = ' '.join(tokens_of_interest)\n",
    "tokens_of_interest_str"
   ]
  },
  {
   "cell_type": "code",
   "execution_count": null,
   "metadata": {},
   "outputs": [],
   "source": [
    "with open('tokens_of_interest_str.txt', 'a') as f:\n",
    "    f.write(tokens_of_interest_str)"
   ]
  },
  {
   "cell_type": "code",
   "execution_count": null,
   "metadata": {},
   "outputs": [],
   "source": [
    "# Convierto mi texto para ser analizado con nltk \n",
    "pnd2018_nltk = nltk.Text(tokens_of_interest)\n",
    "pnd2018_nltk"
   ]
  },
  {
   "cell_type": "code",
   "execution_count": null,
   "metadata": {
    "scrolled": true
   },
   "outputs": [],
   "source": [
    "# Búsqueda de principales palabras de interés para mi análisis. Estas fueron tomadas de CONPES de PDP\n",
    "pnd2018_nltk.dispersion_plot([\"emprendimiento\", \"productividad\", \"innovación\", \"diversificación\", \"microempresa\", \"pyme\", \"empleo\"])"
   ]
  },
  {
   "cell_type": "code",
   "execution_count": null,
   "metadata": {
    "scrolled": true
   },
   "outputs": [],
   "source": [
    "pnd2018_nltk.dispersion_plot([\"emprendimiento\", \"productividad\", \"innovación\", \"diversificación\", \"microempresa\", \"pyme\", \"empleo\", \"sofisticación\", \"mipyme\", \"pyme\", \"competitividad\", \"tecnología\", \"tecnológico\", \"difusión\", \"conocimiento\", \"capacidades\", \"transferencia\", \"financiamiento\", \"modernización\", \"productiva\", \"aparato productivo\", \"capital humano\", \"priorización\"])"
   ]
  },
  {
   "cell_type": "code",
   "execution_count": null,
   "metadata": {},
   "outputs": [],
   "source": [
    "pnd2018_nltk.dispersion_plot([\"emprendimiento\", \"productividad\", \"innovación\", \"diversificación\", \"microempresa\", \"pyme\", \"empleo\", \"sofisticación\", \"competitividad\", \"tecnología\", \"tecnológico\", \"difusión\", \"conocimiento\", \"capacidades\", \"transferencia\", \"financiamiento\", \"modernización\", \"priorización\"])"
   ]
  },
  {
   "cell_type": "code",
   "execution_count": null,
   "metadata": {
    "scrolled": false
   },
   "outputs": [],
   "source": [
    "# Análisis de las palabras de la ecuación de bienestar (Legalidad+Emprendimiento=Equidad)\n",
    "pnd2018_nltk.dispersion_plot([\"emprendimiento\", \"legalidad\", \"equidad\"])"
   ]
  },
  {
   "cell_type": "markdown",
   "metadata": {},
   "source": [
    "Este PND tiene además 12 bases transversales: \n",
    "- Sostenibilidad\n",
    "- CTI\n",
    "- Transparencia y logística\n",
    "- Servicios públicos\n",
    "- Recursos minero-energéticos\n",
    "- Identidad y creatividad\n",
    "- Construcción de paz \n",
    "- Grupos étnicos\n",
    "- Personas con discapacidad\n",
    "- Igualdad de la mujer\n",
    "- Transformación digital \n",
    "- Descentralización\n"
   ]
  },
  {
   "cell_type": "code",
   "execution_count": null,
   "metadata": {},
   "outputs": [],
   "source": [
    "pnd2018_nltk.dispersion_plot([\"sostenibilidad\", \"cti\", \"transporte\", \"logística\", \"servicios públicos\", \"minero-energético\", \"creatividad\", \"paz\", \"étnico\", \"discapacidad\", \"mujer\", \"igualdad\", \"digital\", \"descentralización\"])"
   ]
  },
  {
   "cell_type": "code",
   "execution_count": null,
   "metadata": {},
   "outputs": [],
   "source": [
    "# Número de veces que aparece la palabra de interés\n",
    "pnd2018_nltk.count('emprendimiento')"
   ]
  },
  {
   "cell_type": "code",
   "execution_count": null,
   "metadata": {
    "scrolled": true
   },
   "outputs": [],
   "source": [
    "# Análisis de contexto de el emprendimiento en el PND\n",
    "pnd2018_nltk.concordance('emprendimiento', lines=50)"
   ]
  },
  {
   "cell_type": "code",
   "execution_count": null,
   "metadata": {
    "scrolled": false
   },
   "outputs": [],
   "source": [
    "# Búsqueda de palabras similares al emprendimiento en el PND\n",
    "pnd2018_nltk.similar('emprendimiento')"
   ]
  },
  {
   "cell_type": "markdown",
   "metadata": {},
   "source": [
    "-------"
   ]
  },
  {
   "cell_type": "markdown",
   "metadata": {},
   "source": [
    "## Plan Nacional de Desarrollo 2014-2018"
   ]
  },
  {
   "cell_type": "markdown",
   "metadata": {},
   "source": [
    "#### Para cada uno de los siguientes 3 planes de desarrollo, se harán los mismos pasos que para el PND 2018-2022"
   ]
  },
  {
   "cell_type": "code",
   "execution_count": null,
   "metadata": {},
   "outputs": [],
   "source": [
    "object1=open('Colombia_Plan_Nacional_de_Desarrollo_2014_2018.pdf', 'rb')"
   ]
  },
  {
   "cell_type": "code",
   "execution_count": null,
   "metadata": {},
   "outputs": [],
   "source": [
    "reader1 = PyPDF2.PdfFileReader(object1)\n",
    "reader1"
   ]
  },
  {
   "cell_type": "code",
   "execution_count": null,
   "metadata": {},
   "outputs": [],
   "source": [
    "reader1.numPages"
   ]
  },
  {
   "cell_type": "code",
   "execution_count": null,
   "metadata": {
    "scrolled": false
   },
   "outputs": [],
   "source": [
    "page1=reader1.getPage(8)\n",
    "page1.extractText()"
   ]
  },
  {
   "cell_type": "code",
   "execution_count": null,
   "metadata": {
    "scrolled": true
   },
   "outputs": [],
   "source": [
    "file1 = open('Colombia_Plan_Nacional_de_Desarrollo_2014_2018.pdf', 'rb')\n",
    "fileReader1 = PyPDF2.PdfFileReader(file1)\n",
    "print(fileReader1.numPages)"
   ]
  },
  {
   "cell_type": "code",
   "execution_count": null,
   "metadata": {},
   "outputs": [],
   "source": [
    "pags1=range(reader1.numPages)\n",
    "pags1"
   ]
  },
  {
   "cell_type": "code",
   "execution_count": null,
   "metadata": {},
   "outputs": [],
   "source": [
    "# Para este while loop incluí un try pues me generaba error con el primer tomo del PND \n",
    "# Se deja en adelante para validar\n",
    "# Solución con el tomo 1: Descargar el PND, hacer merge online y el error se solucionó\n",
    "i=0\n",
    "pnd2014=[]\n",
    "while i<reader1.getNumPages():\n",
    "    try:\n",
    "        pageinfo1=reader1.getPage(i)\n",
    "        pnd2014.append(pageinfo1.extractText())\n",
    "        i=i+1\n",
    "    except: \n",
    "        print(\"ERROR\")"
   ]
  },
  {
   "cell_type": "code",
   "execution_count": null,
   "metadata": {
    "scrolled": true
   },
   "outputs": [],
   "source": [
    "pnd2014"
   ]
  },
  {
   "cell_type": "code",
   "execution_count": null,
   "metadata": {},
   "outputs": [],
   "source": [
    "pnd_2014=str(pnd2014)\n",
    "pnd_2014"
   ]
  },
  {
   "cell_type": "code",
   "execution_count": null,
   "metadata": {},
   "outputs": [],
   "source": [
    "str11 = ''.join(pnd2014)\n",
    "str11"
   ]
  },
  {
   "cell_type": "code",
   "execution_count": null,
   "metadata": {},
   "outputs": [],
   "source": [
    "all_tokens1 = str11.split()\n",
    "all_tokens1"
   ]
  },
  {
   "cell_type": "code",
   "execution_count": null,
   "metadata": {},
   "outputs": [],
   "source": [
    "len(all_tokens1)"
   ]
  },
  {
   "cell_type": "code",
   "execution_count": null,
   "metadata": {},
   "outputs": [],
   "source": [
    "alpha1 = [w for w in all_tokens1 if w.isalpha()]\n",
    "alpha1"
   ]
  },
  {
   "cell_type": "code",
   "execution_count": null,
   "metadata": {},
   "outputs": [],
   "source": [
    "tokens_no_punc1 = list(map(no_punct, all_tokens1))\n",
    "tokens_no_punc1\n"
   ]
  },
  {
   "cell_type": "code",
   "execution_count": null,
   "metadata": {},
   "outputs": [],
   "source": [
    "# Todo en minúsculas\n",
    "lower1 = [w.lower() for w in tokens_no_punc1]\n",
    "lower1"
   ]
  },
  {
   "cell_type": "code",
   "execution_count": null,
   "metadata": {},
   "outputs": [],
   "source": [
    "# Quitar números\n",
    "alpha1 = [w for w in lower1 if not w.isdigit()]\n",
    "alpha1"
   ]
  },
  {
   "cell_type": "code",
   "execution_count": null,
   "metadata": {},
   "outputs": [],
   "source": [
    "len(set(alpha1))"
   ]
  },
  {
   "cell_type": "code",
   "execution_count": null,
   "metadata": {},
   "outputs": [],
   "source": [
    "freqdist1 = nltk.FreqDist(alpha1)\n",
    "freqdist1"
   ]
  },
  {
   "cell_type": "code",
   "execution_count": null,
   "metadata": {},
   "outputs": [],
   "source": [
    "tokens_no_stop1 = [w for w in alpha1 if w not in stopwords_esp]\n",
    "tokens_no_stop1"
   ]
  },
  {
   "cell_type": "code",
   "execution_count": null,
   "metadata": {},
   "outputs": [],
   "source": [
    "freqdist1 = nltk.FreqDist(tokens_no_stop1)\n",
    "freqdist1.most_common()"
   ]
  },
  {
   "cell_type": "code",
   "execution_count": null,
   "metadata": {},
   "outputs": [],
   "source": [
    "# From inspection of frequency distribution, make list of words of interest\n",
    "not_of_interest1 = ['','página','así','da', 'p', '˜n', 'ł', 'd˛c', 'tal', 'c', 'e˜ciencia', 'vez', 'd', 'v', 'b', '˜nanciera', '˜scal' ]"
   ]
  },
  {
   "cell_type": "code",
   "execution_count": null,
   "metadata": {},
   "outputs": [],
   "source": [
    "tokens_of_interest1 = [w for w in tokens_no_stop1 if w not in not_of_interest1]\n",
    "tokens_of_interest1"
   ]
  },
  {
   "cell_type": "code",
   "execution_count": null,
   "metadata": {},
   "outputs": [],
   "source": [
    "freqdist1 = nltk.FreqDist(tokens_of_interest1)\n",
    "freqdist1"
   ]
  },
  {
   "cell_type": "code",
   "execution_count": null,
   "metadata": {},
   "outputs": [],
   "source": [
    "tokens_of_interest_str1 = ' '.join(tokens_of_interest1)\n",
    "tokens_of_interest_str1\n"
   ]
  },
  {
   "cell_type": "code",
   "execution_count": null,
   "metadata": {},
   "outputs": [],
   "source": [
    "pnd2014_nltk = nltk.Text(tokens_of_interest1)\n",
    "pnd2014_nltk"
   ]
  },
  {
   "cell_type": "code",
   "execution_count": null,
   "metadata": {
    "scrolled": false
   },
   "outputs": [],
   "source": [
    "pnd2014_nltk.dispersion_plot([\"emprendimiento\", \"productividad\", \"innovación\", \"diversificación\", \"microempresa\", \"pyme\", \"empleo\"])"
   ]
  },
  {
   "cell_type": "code",
   "execution_count": null,
   "metadata": {},
   "outputs": [],
   "source": [
    "pnd2014_nltk.dispersion_plot([\"emprendimiento\", \"productividad\", \"innovación\", \"diversificación\", \"microempresa\", \"pyme\", \"empleo\", \"sofisticación\", \"mipyme\", \"pyme\", \"competitividad\", \"tecnología\", \"tecnológico\", \"difusión\", \"conocimiento\", \"capacidades\", \"transferencia\", \"financiamiento\", \"modernización\", \"productiva\", \"aparato productivo\", \"capital humano\", \"priorización\"])"
   ]
  },
  {
   "cell_type": "code",
   "execution_count": null,
   "metadata": {
    "scrolled": true
   },
   "outputs": [],
   "source": [
    "pnd2014_nltk.dispersion_plot([\"emprendimiento\", \"productividad\", \"innovación\", \"diversificación\", \"micro\", \"pyme\", \"empleo\", \"sofisticación\", \"competitividad\", \"tecnología\", \"tecnológico\", \"difusión\", \"conocimiento\", \"capacidades\", \"transferencia\", \"financiamiento\", \"modernización\", \"priorización\"])"
   ]
  },
  {
   "cell_type": "markdown",
   "metadata": {},
   "source": [
    "Este PND tiene 3 pilares: Paz, equidad y educación. \n",
    "\n",
    "Dentro de estos 3 tiene 5 estrategias transversales: \n",
    "- Competitividad e infraestructura\n",
    "- Movilidad social\n",
    "- Transformación del campo\n",
    "- Seguridad, justicia y democracia para la construcción de paz \n",
    "- Buen gobierno"
   ]
  },
  {
   "cell_type": "code",
   "execution_count": null,
   "metadata": {},
   "outputs": [],
   "source": [
    "pnd2014_nltk.dispersion_plot([\"paz\", \"equidad\", \"educación\", \"competitividad\", \"infraestructura\", \"movilidad\", \"campo\", \"seguridad\", \"justicia\", \"democracia\", \"paz\", \"buen gobierno\"])"
   ]
  },
  {
   "cell_type": "code",
   "execution_count": null,
   "metadata": {},
   "outputs": [],
   "source": [
    "pnd2014_nltk.count('emprendimiento')"
   ]
  },
  {
   "cell_type": "code",
   "execution_count": null,
   "metadata": {},
   "outputs": [],
   "source": [
    "pnd2014_nltk.count('paz')"
   ]
  },
  {
   "cell_type": "code",
   "execution_count": null,
   "metadata": {},
   "outputs": [],
   "source": [
    "pnd2014_nltk.concordance('emprendimiento', lines=50)"
   ]
  },
  {
   "cell_type": "code",
   "execution_count": null,
   "metadata": {},
   "outputs": [],
   "source": [
    "pnd2014_nltk.similar('emprendimiento')"
   ]
  },
  {
   "cell_type": "markdown",
   "metadata": {},
   "source": [
    "---"
   ]
  },
  {
   "cell_type": "markdown",
   "metadata": {},
   "source": [
    "## Plan Nacional de Desarrollo 2010"
   ]
  },
  {
   "cell_type": "markdown",
   "metadata": {},
   "source": [
    "#### En el caso de este PND, tengo dos tomos. El procedimiento es el mismo, lo que se hace es que cada uno es asignado a una lista y luego estas listas se suman en una para tener el PND completo respetando el orden."
   ]
  },
  {
   "cell_type": "code",
   "execution_count": null,
   "metadata": {},
   "outputs": [],
   "source": [
    "object2=open('PND2010-2014 Tomo I CD.pdf', 'rb')"
   ]
  },
  {
   "cell_type": "code",
   "execution_count": null,
   "metadata": {},
   "outputs": [],
   "source": [
    "reader2 = PyPDF2.PdfFileReader(object2)\n",
    "reader2"
   ]
  },
  {
   "cell_type": "code",
   "execution_count": null,
   "metadata": {},
   "outputs": [],
   "source": [
    "reader2.numPages"
   ]
  },
  {
   "cell_type": "code",
   "execution_count": null,
   "metadata": {},
   "outputs": [],
   "source": [
    "page2=reader2.getPage(8)\n",
    "page2.extractText()"
   ]
  },
  {
   "cell_type": "code",
   "execution_count": null,
   "metadata": {},
   "outputs": [],
   "source": [
    "file2 = open('PND2010-2014 Tomo I CD.pdf', 'rb')\n",
    "fileReader2 = PyPDF2.PdfFileReader(file2)\n",
    "print(fileReader2.numPages)"
   ]
  },
  {
   "cell_type": "code",
   "execution_count": null,
   "metadata": {},
   "outputs": [],
   "source": [
    "pags2=range(reader2.numPages)\n",
    "pags2"
   ]
  },
  {
   "cell_type": "code",
   "execution_count": null,
   "metadata": {},
   "outputs": [],
   "source": [
    "i=0\n",
    "pnd2010=[]\n",
    "while i<reader2.getNumPages():\n",
    "    try:\n",
    "        pageinfo2=reader2.getPage(i)\n",
    "        pnd2010.append(pageinfo2.extractText())\n",
    "        i=i+1\n",
    "    except: \n",
    "        print(\"ERROR\")"
   ]
  },
  {
   "cell_type": "code",
   "execution_count": null,
   "metadata": {},
   "outputs": [],
   "source": [
    "pnd2010"
   ]
  },
  {
   "cell_type": "code",
   "execution_count": null,
   "metadata": {},
   "outputs": [],
   "source": [
    "#Esta será la lista que contiene el Tomo I\n",
    "pnd2010_t1=pnd2010\n",
    "pnd2010_t1"
   ]
  },
  {
   "cell_type": "code",
   "execution_count": null,
   "metadata": {},
   "outputs": [],
   "source": [
    "object22=open('PND2010-2014 Tomo II CD.pdf', 'rb')\n",
    "reader22 = PyPDF2.PdfFileReader(object22)\n",
    "reader22"
   ]
  },
  {
   "cell_type": "code",
   "execution_count": null,
   "metadata": {},
   "outputs": [],
   "source": [
    "reader22.numPages"
   ]
  },
  {
   "cell_type": "code",
   "execution_count": null,
   "metadata": {},
   "outputs": [],
   "source": [
    "page22=reader22.getPage(8)\n",
    "page22.extractText()"
   ]
  },
  {
   "cell_type": "code",
   "execution_count": null,
   "metadata": {},
   "outputs": [],
   "source": [
    "file22 = open('PND2010-2014 Tomo II CD.pdf', 'rb')\n",
    "fileReader22 = PyPDF2.PdfFileReader(file22)\n",
    "print(fileReader22.numPages)"
   ]
  },
  {
   "cell_type": "code",
   "execution_count": null,
   "metadata": {
    "scrolled": true
   },
   "outputs": [],
   "source": [
    "pags22=range(reader22.numPages)\n",
    "pags22"
   ]
  },
  {
   "cell_type": "code",
   "execution_count": null,
   "metadata": {},
   "outputs": [],
   "source": [
    "i=0\n",
    "pnd2010=[]\n",
    "while i<reader22.getNumPages():\n",
    "    try:\n",
    "        pageinfo22=reader22.getPage(i)\n",
    "        pnd2010.append(pageinfo22.extractText())\n",
    "        i=i+1\n",
    "    except: \n",
    "        print(\"ERROR\")"
   ]
  },
  {
   "cell_type": "code",
   "execution_count": null,
   "metadata": {},
   "outputs": [],
   "source": [
    "pnd2010"
   ]
  },
  {
   "cell_type": "code",
   "execution_count": null,
   "metadata": {},
   "outputs": [],
   "source": [
    "# Esta es la lista que contiene el tomo II\n",
    "pnd2010_t2=pnd2010"
   ]
  },
  {
   "cell_type": "code",
   "execution_count": null,
   "metadata": {
    "scrolled": true
   },
   "outputs": [],
   "source": [
    "# Añadiendo el Tomo I y II a la lista PND 2010 obtengo el plan en una sola lista como tengo los dos anteriores\n",
    "pnd2010=pnd2010_t1+pnd2010_t2\n",
    "pnd2010"
   ]
  },
  {
   "cell_type": "code",
   "execution_count": null,
   "metadata": {
    "scrolled": true
   },
   "outputs": [],
   "source": [
    "# En adelante el procedimiento es el mismo que para el PND 2018-2022\n",
    "str2 = ''.join(pnd2010)\n",
    "str2"
   ]
  },
  {
   "cell_type": "code",
   "execution_count": null,
   "metadata": {
    "scrolled": true
   },
   "outputs": [],
   "source": [
    "all_tokens2 = str2.split()\n",
    "all_tokens2"
   ]
  },
  {
   "cell_type": "code",
   "execution_count": null,
   "metadata": {},
   "outputs": [],
   "source": [
    "len(all_tokens2)"
   ]
  },
  {
   "cell_type": "code",
   "execution_count": null,
   "metadata": {},
   "outputs": [],
   "source": [
    "alpha2 = [w for w in all_tokens2 if w.isalpha()]\n",
    "alpha2\n"
   ]
  },
  {
   "cell_type": "code",
   "execution_count": null,
   "metadata": {},
   "outputs": [],
   "source": [
    "tokens_no_punc2 = list(map(no_punct, all_tokens2))\n",
    "tokens_no_punc2"
   ]
  },
  {
   "cell_type": "code",
   "execution_count": null,
   "metadata": {},
   "outputs": [],
   "source": [
    "# Todo en minúsculas\n",
    "lower2 = [w.lower() for w in tokens_no_punc2]\n",
    "lower2"
   ]
  },
  {
   "cell_type": "code",
   "execution_count": null,
   "metadata": {},
   "outputs": [],
   "source": [
    "# Quitar números\n",
    "alpha2 = [w for w in lower2 if not w.isdigit()]\n",
    "alpha2"
   ]
  },
  {
   "cell_type": "code",
   "execution_count": null,
   "metadata": {},
   "outputs": [],
   "source": [
    "len(set(alpha2))"
   ]
  },
  {
   "cell_type": "code",
   "execution_count": null,
   "metadata": {},
   "outputs": [],
   "source": [
    "tokens_no_stop2 = [w for w in alpha2 if w not in stopwords_esp]\n",
    "tokens_no_stop2"
   ]
  },
  {
   "cell_type": "code",
   "execution_count": null,
   "metadata": {},
   "outputs": [],
   "source": [
    "freqdist2 = nltk.FreqDist(tokens_no_stop2)\n",
    "freqdist2.most_common()"
   ]
  },
  {
   "cell_type": "code",
   "execution_count": null,
   "metadata": {},
   "outputs": [],
   "source": [
    "# From inspection of frequency distribution, make list of words of interest\n",
    "not_of_interest2 = ['','página','así','da', '97002881675679as', '9934525501759773', '3593095822', '20102014']"
   ]
  },
  {
   "cell_type": "code",
   "execution_count": null,
   "metadata": {},
   "outputs": [],
   "source": [
    "tokens_of_interest2 = [w for w in tokens_no_stop2 if w not in not_of_interest2]\n",
    "tokens_of_interest2"
   ]
  },
  {
   "cell_type": "code",
   "execution_count": null,
   "metadata": {},
   "outputs": [],
   "source": [
    "freqdist2 = nltk.FreqDist(tokens_of_interest2)\n",
    "freqdist2"
   ]
  },
  {
   "cell_type": "code",
   "execution_count": null,
   "metadata": {},
   "outputs": [],
   "source": [
    "tokens_of_interest_str2 = ' '.join(tokens_of_interest2)\n",
    "tokens_of_interest_str2"
   ]
  },
  {
   "cell_type": "code",
   "execution_count": null,
   "metadata": {},
   "outputs": [],
   "source": [
    "pnd2010_nltk = nltk.Text(tokens_of_interest2)\n",
    "pnd2010_nltk"
   ]
  },
  {
   "cell_type": "code",
   "execution_count": null,
   "metadata": {
    "scrolled": true
   },
   "outputs": [],
   "source": [
    "pnd2010_nltk.dispersion_plot([\"emprendimiento\", \"productividad\", \"innovación\", \"diversificación\", \"microempresa\", \"pyme\", \"empleo\"])"
   ]
  },
  {
   "cell_type": "code",
   "execution_count": null,
   "metadata": {
    "scrolled": true
   },
   "outputs": [],
   "source": [
    "pnd2010_nltk.dispersion_plot([\"emprendimiento\", \"productividad\", \"innovación\", \"diversificación\", \"microempresa\", \"pyme\", \"empleo\", \"sofisticación\", \"mipyme\", \"pyme\", \"competitividad\", \"tecnología\", \"tecnológico\", \"difusión\", \"conocimiento\", \"capacidades\", \"transferencia\", \"financiamiento\", \"modernización\", \"productiva\", \"aparato productivo\", \"capital humano\", \"priorización\"])"
   ]
  },
  {
   "cell_type": "code",
   "execution_count": null,
   "metadata": {
    "scrolled": true
   },
   "outputs": [],
   "source": [
    "pnd2010_nltk.dispersion_plot([\"emprendimiento\", \"productividad\", \"innovación\", \"diversificación\", \"microempresa\", \"pyme\", \"empleo\", \"sofisticación\", \"competitividad\", \"tecnología\", \"tecnológico\", \"difusión\", \"conocimiento\", \"capacidades\", \"transferencia\", \"financiamiento\", \"modernización\", \"priorización\"])"
   ]
  },
  {
   "cell_type": "markdown",
   "metadata": {},
   "source": [
    "Este PND tiene varias palabras clave de línea de política. En primer lugar está el \"slogan\": Más empleo, menos pobreza, y más seguridad. \n",
    "Por otro lado reconoce 8 grandes ejes:\n",
    "- Buen gobierno\n",
    "- Relevancia internacional \n",
    "- Sostenibilidad ambiental\n",
    "- Innovación\n",
    "- Crecimiento y competitividad \n",
    "- Igualdad de oportunidades \n",
    "- Consolidación de la paz \n",
    "- Convergencia y desarrollo regional \n",
    "\n",
    "Y lo que más se destaca es: \"Prosperidad democrática\""
   ]
  },
  {
   "cell_type": "code",
   "execution_count": null,
   "metadata": {},
   "outputs": [],
   "source": [
    "pnd2010_nltk.dispersion_plot([\"democrática\", \"prosperidad\", \"gobierno\", \"ambiental\", \"innovación\", \"crecimiento\", \"competitividad\", \"oportunidades\", \"igualdad\", \"paz\", \"convergencia\", \"regional\", \"pobreza\", \"seguridad\", \"empleo\"])"
   ]
  },
  {
   "cell_type": "code",
   "execution_count": null,
   "metadata": {},
   "outputs": [],
   "source": [
    "pnd2010_nltk.count('emprendimiento')"
   ]
  },
  {
   "cell_type": "code",
   "execution_count": null,
   "metadata": {},
   "outputs": [],
   "source": [
    "pnd2010_nltk.concordance('emprendimiento', lines=50)"
   ]
  },
  {
   "cell_type": "code",
   "execution_count": null,
   "metadata": {
    "scrolled": false
   },
   "outputs": [],
   "source": [
    "pnd2010_nltk.similar('emprendimiento')"
   ]
  },
  {
   "cell_type": "markdown",
   "metadata": {},
   "source": [
    "----"
   ]
  },
  {
   "cell_type": "markdown",
   "metadata": {},
   "source": [
    "## Plan Nacional de Desarrollo 2006"
   ]
  },
  {
   "cell_type": "markdown",
   "metadata": {},
   "source": [
    "#### Este PND también venía en dos tomos y se le realizó un merge "
   ]
  },
  {
   "cell_type": "code",
   "execution_count": null,
   "metadata": {},
   "outputs": [],
   "source": [
    "object3=open('PND2006.pdf', 'rb')"
   ]
  },
  {
   "cell_type": "code",
   "execution_count": null,
   "metadata": {},
   "outputs": [],
   "source": [
    "reader3 = PyPDF2.PdfFileReader(object3)\n",
    "reader3"
   ]
  },
  {
   "cell_type": "code",
   "execution_count": null,
   "metadata": {},
   "outputs": [],
   "source": [
    "reader3.numPages"
   ]
  },
  {
   "cell_type": "code",
   "execution_count": null,
   "metadata": {},
   "outputs": [],
   "source": [
    "page3=reader3.getPage(300)\n",
    "page3.extractText()"
   ]
  },
  {
   "cell_type": "code",
   "execution_count": null,
   "metadata": {},
   "outputs": [],
   "source": [
    "file3 = open('PND2006.pdf', 'rb')\n",
    "fileReader3 = PyPDF2.PdfFileReader(file3)\n",
    "print(fileReader3.numPages)"
   ]
  },
  {
   "cell_type": "code",
   "execution_count": null,
   "metadata": {},
   "outputs": [],
   "source": [
    "i=0\n",
    "pnd2006=[]\n",
    "while i<reader3.getNumPages():\n",
    "    try:\n",
    "        pageinfo3=reader3.getPage(i)\n",
    "        pnd2006.append(pageinfo3.extractText())\n",
    "        i=i+1\n",
    "    except: \n",
    "        print(\"ERROR\")"
   ]
  },
  {
   "cell_type": "code",
   "execution_count": null,
   "metadata": {
    "scrolled": true
   },
   "outputs": [],
   "source": [
    "pnd2006"
   ]
  },
  {
   "cell_type": "code",
   "execution_count": null,
   "metadata": {},
   "outputs": [],
   "source": [
    "pnd_2006=str(pnd2006)"
   ]
  },
  {
   "cell_type": "code",
   "execution_count": null,
   "metadata": {},
   "outputs": [],
   "source": [
    "str4 = ''.join(pnd2006)\n",
    "str4"
   ]
  },
  {
   "cell_type": "code",
   "execution_count": null,
   "metadata": {},
   "outputs": [],
   "source": [
    "all_tokens4 = str4.split()\n",
    "all_tokens4"
   ]
  },
  {
   "cell_type": "code",
   "execution_count": null,
   "metadata": {},
   "outputs": [],
   "source": [
    "len(all_tokens4)"
   ]
  },
  {
   "cell_type": "code",
   "execution_count": null,
   "metadata": {},
   "outputs": [],
   "source": [
    "alpha4 = [w for w in all_tokens4 if w.isalpha()]\n",
    "alpha4"
   ]
  },
  {
   "cell_type": "code",
   "execution_count": null,
   "metadata": {},
   "outputs": [],
   "source": [
    "tokens_no_punc4 = list(map(no_punct, all_tokens4))\n",
    "tokens_no_punc4"
   ]
  },
  {
   "cell_type": "code",
   "execution_count": null,
   "metadata": {},
   "outputs": [],
   "source": [
    "# Todo en minúsculas\n",
    "lower4 = [w.lower() for w in tokens_no_punc4]\n",
    "lower4"
   ]
  },
  {
   "cell_type": "code",
   "execution_count": null,
   "metadata": {},
   "outputs": [],
   "source": [
    "# Quitar números\n",
    "alpha4 = [w for w in lower4 if not w.isdigit()]\n",
    "alpha4\n"
   ]
  },
  {
   "cell_type": "code",
   "execution_count": null,
   "metadata": {},
   "outputs": [],
   "source": [
    "len(set(alpha4))"
   ]
  },
  {
   "cell_type": "code",
   "execution_count": null,
   "metadata": {},
   "outputs": [],
   "source": [
    "freqdist = nltk.FreqDist(alpha)\n",
    "freqdist"
   ]
  },
  {
   "cell_type": "code",
   "execution_count": null,
   "metadata": {},
   "outputs": [],
   "source": [
    "tokens_no_stop4 = [w for w in alpha4 if w not in stopwords_esp]\n",
    "tokens_no_stop4"
   ]
  },
  {
   "cell_type": "code",
   "execution_count": null,
   "metadata": {},
   "outputs": [],
   "source": [
    "freqdist4 = nltk.FreqDist(tokens_no_stop4)\n",
    "freqdist4.most_common()"
   ]
  },
  {
   "cell_type": "code",
   "execution_count": null,
   "metadata": {},
   "outputs": [],
   "source": [
    "# Se le quitan errores observados en la distribución de frecuencias de la línea anterior\n",
    "not_of_interest = ['','página','así','da', 'i', 'xvi', 'cxliii', 'o˜cial', 'además','d˜˚˛˝˙˛ˆ˜ˇ˙˘', 'n˛ˇ˜', 'p˛ˇ˜˛ˇ', 'ł', 'ˆ˜ˇˇˆˆ e˘˝ˇ cˇˇˆˆˇ ˚˜ ˝ˇˇ˘', 'c˜˚˛˝˙ˆˇ 7d˘ˇ˚ˇˆˆˇ 5', '623miento', 'vrgr' ]"
   ]
  },
  {
   "cell_type": "code",
   "execution_count": null,
   "metadata": {
    "scrolled": true
   },
   "outputs": [],
   "source": [
    "tokens_of_interest4 = [w for w in tokens_no_stop4 if w not in not_of_interest]\n",
    "tokens_of_interest4"
   ]
  },
  {
   "cell_type": "code",
   "execution_count": null,
   "metadata": {},
   "outputs": [],
   "source": [
    "freqdist4 = nltk.FreqDist(tokens_of_interest4)\n",
    "freqdist4"
   ]
  },
  {
   "cell_type": "code",
   "execution_count": null,
   "metadata": {},
   "outputs": [],
   "source": [
    "tokens_of_interest_str4 = ' '.join(tokens_of_interest4)\n",
    "tokens_of_interest_str4"
   ]
  },
  {
   "cell_type": "code",
   "execution_count": null,
   "metadata": {},
   "outputs": [],
   "source": [
    "pnd2006_nltk = nltk.Text(tokens_of_interest4)\n",
    "pnd2006_nltk"
   ]
  },
  {
   "cell_type": "code",
   "execution_count": null,
   "metadata": {
    "scrolled": true
   },
   "outputs": [],
   "source": [
    "pnd2006_nltk.dispersion_plot([\"emprendimiento\", \"productividad\", \"innovación\", \"diversificación\", \"microempresa\", \"pyme\", \"empleo\"])"
   ]
  },
  {
   "cell_type": "code",
   "execution_count": null,
   "metadata": {
    "scrolled": true
   },
   "outputs": [],
   "source": [
    "pnd2006_nltk.dispersion_plot([\"emprendimiento\", \"productividad\", \"innovación\", \"diversificación\", \"microempresas\", \"pyme\", \"empleo\", \"sofisticación\", \"mipyme\", \"pyme\", \"competitividad\", \"tecnología\", \"tecnológico\", \"difusión\", \"conocimiento\", \"capacidades\", \"transferencia\", \"financiamiento\", \"modernización\", \"productiva\", \"aparato productivo\", \"capital humano\", \"priorización\"])"
   ]
  },
  {
   "cell_type": "code",
   "execution_count": null,
   "metadata": {
    "scrolled": true
   },
   "outputs": [],
   "source": [
    "pnd2006_nltk.dispersion_plot([\"emprendimiento\", \"productividad\", \"innovación\", \"diversificación\", \"microempresa\", \"pyme\", \"empleo\", \"sofisticación\", \"competitividad\", \"tecnología\", \"tecnológico\", \"difusión\", \"conocimiento\", \"capacidades\", \"transferencia\", \"financiamiento\", \"modernización\", \"priorización\"])"
   ]
  },
  {
   "cell_type": "markdown",
   "metadata": {},
   "source": [
    "Este PND tiene 5 principios fundamentales: \n",
    "- Seguridad democrática\n",
    "- Respeto a las libertades públicas\n",
    "- Construcción de la cohesión social\n",
    "- Transparencia \n",
    "- Respeto a la independencia de las instituciones del Estado \n",
    "\n",
    "Por ello a continuación se analizarán las palabras clave de este PND: \n",
    "- Seguridad democrática\n",
    "- Libertades públicas\n",
    "- Cohesión social\n",
    "- Transparencia\n",
    "- Independencia/Instituciones\n"
   ]
  },
  {
   "cell_type": "code",
   "execution_count": null,
   "metadata": {},
   "outputs": [],
   "source": [
    "pnd2006_nltk.dispersion_plot([\"seguridad\", \"democrática\", \"libertades\", \"cohesión\", \"social\", \"transparencia\", \"independencia\", \"instituciones\", \"comunitario\"])"
   ]
  },
  {
   "cell_type": "code",
   "execution_count": null,
   "metadata": {},
   "outputs": [],
   "source": [
    "pnd2006_nltk.count('emprendimiento')"
   ]
  },
  {
   "cell_type": "code",
   "execution_count": null,
   "metadata": {
    "scrolled": true
   },
   "outputs": [],
   "source": [
    "pnd2006_nltk.concordance('emprendimiento', lines=36)"
   ]
  },
  {
   "cell_type": "code",
   "execution_count": null,
   "metadata": {
    "scrolled": true
   },
   "outputs": [],
   "source": [
    "pnd2006_nltk.similar('emprendimiento')"
   ]
  },
  {
   "cell_type": "markdown",
   "metadata": {},
   "source": [
    "----"
   ]
  },
  {
   "cell_type": "markdown",
   "metadata": {},
   "source": [
    "### Planes en conjunto para análisis"
   ]
  },
  {
   "cell_type": "code",
   "execution_count": null,
   "metadata": {},
   "outputs": [],
   "source": [
    "tokens_2006_2018=tokens_of_interest4+tokens_of_interest2+tokens_of_interest1+tokens_of_interest"
   ]
  },
  {
   "cell_type": "code",
   "execution_count": null,
   "metadata": {},
   "outputs": [],
   "source": [
    "tokens_2006_2018"
   ]
  },
  {
   "cell_type": "code",
   "execution_count": null,
   "metadata": {},
   "outputs": [],
   "source": [
    "pndconsolidado_nltk = nltk.Text(tokens_2006_2018)\n",
    "pndconsolidado_nltk"
   ]
  },
  {
   "cell_type": "code",
   "execution_count": null,
   "metadata": {
    "scrolled": true
   },
   "outputs": [],
   "source": [
    "pndconsolidado_nltk.dispersion_plot([\"emprendimiento\", \"productividad\", \"innovación\", \"diversificación\", \"competitividad\", \"empleo\"])"
   ]
  },
  {
   "cell_type": "code",
   "execution_count": null,
   "metadata": {
    "scrolled": false
   },
   "outputs": [],
   "source": [
    "pndconsolidado_nltk.dispersion_plot([\"educación\", \"seguridad\", \"defensa\", \"paz\", \"empleo\", \"infraestructura\", \"productividad\", \"emprendimiento\"])"
   ]
  },
  {
   "cell_type": "code",
   "execution_count": null,
   "metadata": {
    "scrolled": true
   },
   "outputs": [],
   "source": [
    "pndconsolidado_nltk.count('emprendimiento')"
   ]
  },
  {
   "cell_type": "code",
   "execution_count": null,
   "metadata": {},
   "outputs": [],
   "source": [
    "pndconsolidado_nltk.similar('emprendimiento')"
   ]
  }
 ],
 "metadata": {
  "kernelspec": {
   "display_name": "Python 3",
   "language": "python",
   "name": "python3"
  },
  "language_info": {
   "codemirror_mode": {
    "name": "ipython",
    "version": 3
   },
   "file_extension": ".py",
   "mimetype": "text/x-python",
   "name": "python",
   "nbconvert_exporter": "python",
   "pygments_lexer": "ipython3",
   "version": "3.7.1"
  }
 },
 "nbformat": 4,
 "nbformat_minor": 2
}
